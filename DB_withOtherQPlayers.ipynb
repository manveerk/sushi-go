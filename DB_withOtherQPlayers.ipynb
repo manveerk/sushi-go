{
 "cells": [
  {
   "cell_type": "markdown",
   "id": "1525a376",
   "metadata": {},
   "source": [
    "4- Player Game"
   ]
  },
  {
   "cell_type": "code",
   "execution_count": 1,
   "id": "38d3e171",
   "metadata": {},
   "outputs": [
    {
     "name": "stderr",
     "output_type": "stream",
     "text": [
      "  0%|          | 0/100 [00:00<?, ?it/s]"
     ]
    }
   ],
   "source": [
    "import pandas as pd\n",
    "from State import *\n",
    "from Player import *\n",
    "import plotly.express as px\n",
    "from tqdm import tqdm\n",
    "\n",
    "\n",
    "state = State(get_actual_card_pool())\n",
    "p1 = QPlayer('Q1')\n",
    "p2 = Q_DBPlayer('DB')\n",
    "p3 = QStatePlayer('Q State Player')\n",
    "#p4 = RandomPlayer('RandomPlayer')\n",
    "#p4 = DeepPlayer('Deep w/ Memory', num_of_opponents=3, memory_turns=3)\n",
    "state.add_player(p1)\n",
    "state.add_player(p2)\n",
    "state.add_player(p3)\n",
    "#state.add_player(p4)\n",
    "state.starting_hand_size = 8\n",
    "df = pd.DataFrame()\n",
    "all_results = []\n",
    "hit_rates = []\n",
    "        \n",
    "for i in tqdm(range(100)):\n",
    "    # Train\n",
    "    p1.exp_rate = 0.3\n",
    "    p2.exp_rate = 0.3\n",
    "    p3.exp_rate = 0.3\n",
    "    p1.lr = 0.01\n",
    "    p2.lr = 0.01\n",
    "    p3.lr = 0.01\n",
    "    state.play_games(200)\n",
    "    \n",
    "    #for item in p1.model_dict.items():\n",
    "        #print(item)\n",
    "\n",
    "    # Eval\n",
    "    p1.exp_rate = 0\n",
    "    p2.exp_rate = 0\n",
    "    p3.exp_rate = 0\n",
    "    \n",
    "    state.stats = []\n",
    "    state.play_games(200)\n",
    "    all_results.append(state.stats)"
   ]
  },
  {
   "cell_type": "markdown",
   "id": "cf46342f",
   "metadata": {},
   "source": [
    "Plot"
   ]
  },
  {
   "cell_type": "code",
   "execution_count": null,
   "id": "852cbc51",
   "metadata": {},
   "outputs": [],
   "source": [
    "df = pd.DataFrame()\n",
    "for i in range(4):\n",
    "    df[state.players[i].name] = [_[i] for _ in all_results]\n",
    "fig = px.line(df)\n",
    "fig.update_layout(\n",
    "    title='3 Player Games stats, 200 Games per Round',\n",
    "    xaxis_title='Round',\n",
    "    yaxis_title='Games Won',\n",
    "    legend_title='Player'\n",
    ")\n",
    "fig.show()\n"
   ]
  },
  {
   "cell_type": "code",
   "execution_count": null,
   "id": "9ca3a84d",
   "metadata": {},
   "outputs": [],
   "source": [
    "players = [0,0,0,0]\n",
    "for game in all_results:\n",
    "    for i in range(4):\n",
    "        if game[i] == max(game):\n",
    "            players[i] += 1"
   ]
  },
  {
   "cell_type": "code",
   "execution_count": null,
   "id": "4566e146",
   "metadata": {},
   "outputs": [],
   "source": [
    "for i in range (4):\n",
    "    print(\"Player \" + str(i+1) + \": \" + str(players[i]))"
   ]
  }
 ],
 "metadata": {
  "interpreter": {
   "hash": "949777d72b0d2535278d3dc13498b2535136f6dfe0678499012e853ee9abcab1"
  },
  "kernelspec": {
   "display_name": "Python 3",
   "language": "python",
   "name": "python3"
  },
  "language_info": {
   "codemirror_mode": {
    "name": "ipython",
    "version": 3
   },
   "file_extension": ".py",
   "mimetype": "text/x-python",
   "name": "python",
   "nbconvert_exporter": "python",
   "pygments_lexer": "ipython3",
   "version": "3.9.7"
  }
 },
 "nbformat": 4,
 "nbformat_minor": 5
}
